{
  "cells": [
    {
      "cell_type": "markdown",
      "source": [
        "### 1. 什么是变量"
      ],
      "metadata": {
        "collapsed": false,
        "outputHidden": false,
        "inputHidden": false
      }
    },
    {
      "cell_type": "code",
      "source": [
        "print(245)\n",
        "print(2.24)\n",
        "print('这是一个字符串')"
      ],
      "outputs": [
        {
          "output_type": "stream",
          "name": "stdout",
          "text": [
            "245\n",
            "2.24\n",
            "这是一个字符串\n"
          ]
        }
      ],
      "execution_count": 1,
      "metadata": {}
    },
    {
      "cell_type": "code",
      "source": [
        "a = 1\n",
        "b = 4.2\n",
        "c = 'abc'\n",
        "d = [1,2,3,4]\n",
        "print(a,b,c,d)\n",
        "print(type(a), type(b), type(c), type(d))\n",
        "print(id(a), id(b), id(c), id(d))"
      ],
      "outputs": [
        {
          "output_type": "stream",
          "name": "stdout",
          "text": [
            "1 4.2 abc [1, 2, 3, 4]\n",
            "<class 'int'> <class 'float'> <class 'str'> <class 'list'>\n",
            "140707917378384 1839550161496 1839506126416 1839552176584\n"
          ]
        }
      ],
      "execution_count": 9,
      "metadata": {
        "collapsed": false,
        "outputHidden": false,
        "inputHidden": false
      }
    },
    {
      "cell_type": "code",
      "source": [
        "a = 1\n",
        "print(a, type(a), id(a))\n",
        "a = 'hello world'\n",
        "print(a, type(a), id(a))"
      ],
      "outputs": [
        {
          "output_type": "stream",
          "name": "stdout",
          "text": [
            "1 <class 'int'> 140707917378384\n",
            "hello world <class 'str'> 1839553793072\n"
          ]
        }
      ],
      "execution_count": 16,
      "metadata": {
        "collapsed": false,
        "outputHidden": false,
        "inputHidden": false
      }
    },
    {
      "cell_type": "code",
      "source": [
        "# 多变量赋值\n",
        "a = b = c = 1\n",
        "print(a, b, c)\n",
        "print(id(a), id(b), id(c))\n",
        "a, b, c = 1, 2, 3\n",
        "print(a, b, c)\n",
        "print(id(a), id(b), id(c))"
      ],
      "outputs": [
        {
          "output_type": "stream",
          "name": "stdout",
          "text": [
            "1 1 1\n",
            "140707917378384 140707917378384 140707917378384\n",
            "1 2 3\n",
            "140707917378384 140707917378416 140707917378448\n"
          ]
        }
      ],
      "execution_count": 18,
      "metadata": {
        "collapsed": false,
        "outputHidden": false,
        "inputHidden": false
      }
    },
    {
      "cell_type": "code",
      "source": [
        "# 注意值的指向\n",
        "a = 1\n",
        "b = 1.0\n",
        "print(id(a), id(b))\n",
        "# is 判断两个指的是不是同一个内存地址\n",
        "print(a is b)\n",
        "print(a == b)"
      ],
      "outputs": [
        {
          "output_type": "stream",
          "name": "stdout",
          "text": [
            "140707917378384 1839550162456\n",
            "False\n",
            "True\n"
          ]
        }
      ],
      "execution_count": 19,
      "metadata": {
        "collapsed": false,
        "outputHidden": false,
        "inputHidden": false
      }
    },
    {
      "cell_type": "code",
      "source": [
        "a = 1\n",
        "b = 1\n",
        "print(id(a), id(b))\n",
        "print(a is b)"
      ],
      "outputs": [
        {
          "output_type": "stream",
          "name": "stdout",
          "text": [
            "140707917378384 140707917378384\n",
            "True\n"
          ]
        }
      ],
      "execution_count": 21,
      "metadata": {
        "collapsed": false,
        "outputHidden": false,
        "inputHidden": false
      }
    },
    {
      "cell_type": "markdown",
      "source": [
        "### 2.基本数据类型"
      ],
      "metadata": {
        "collapsed": false,
        "outputHidden": false,
        "inputHidden": false
      }
    },
    {
      "cell_type": "code",
      "source": [
        "type(10)"
      ],
      "outputs": [
        {
          "output_type": "execute_result",
          "execution_count": 22,
          "data": {
            "text/plain": [
              "int"
            ]
          },
          "metadata": {}
        }
      ],
      "execution_count": 22,
      "metadata": {
        "collapsed": false,
        "outputHidden": false,
        "inputHidden": false
      }
    },
    {
      "cell_type": "code",
      "source": [
        "type(10.1)"
      ],
      "outputs": [
        {
          "output_type": "execute_result",
          "execution_count": 23,
          "data": {
            "text/plain": [
              "float"
            ]
          },
          "metadata": {}
        }
      ],
      "execution_count": 23,
      "metadata": {
        "collapsed": false,
        "outputHidden": false,
        "inputHidden": false
      }
    },
    {
      "cell_type": "code",
      "source": [
        "a = 100\n",
        "b = 17\n",
        "print(a + b)\n",
        "print(a - b)\n",
        "print(a * b)\n",
        "print(a / b)\n",
        "print(a // b)\n",
        "print(a ** b)\n",
        "print(a % b)"
      ],
      "outputs": [
        {
          "output_type": "stream",
          "name": "stdout",
          "text": [
            "117\n",
            "83\n",
            "1700\n",
            "5.882352941176471\n",
            "5\n",
            "10000000000000000000000000000000000\n",
            "15\n"
          ]
        }
      ],
      "execution_count": 24,
      "metadata": {
        "collapsed": false,
        "outputHidden": false,
        "inputHidden": false
      }
    },
    {
      "cell_type": "code",
      "source": [
        "print(1 > 2)\n",
        "print(1 < 2)\n",
        "print(1 == 2)\n",
        "print(1 != 2)\n",
        "print(1 >= 2)\n",
        "print(1 <= 2)"
      ],
      "outputs": [
        {
          "output_type": "stream",
          "name": "stdout",
          "text": [
            "False\n",
            "True\n",
            "False\n",
            "True\n",
            "False\n",
            "True\n"
          ]
        }
      ],
      "execution_count": 25,
      "metadata": {
        "collapsed": false,
        "outputHidden": false,
        "inputHidden": false
      }
    },
    {
      "cell_type": "code",
      "source": [
        "False == bool(0)"
      ],
      "outputs": [
        {
          "output_type": "execute_result",
          "execution_count": 38,
          "data": {
            "text/plain": [
              "True"
            ]
          },
          "metadata": {}
        }
      ],
      "execution_count": 38,
      "metadata": {
        "collapsed": false,
        "outputHidden": false,
        "inputHidden": false
      }
    },
    {
      "cell_type": "code",
      "source": [
        "print('a,b,c')"
      ],
      "outputs": [
        {
          "output_type": "stream",
          "name": "stdout",
          "text": [
            "a,b,c\n"
          ]
        }
      ],
      "execution_count": 39,
      "metadata": {
        "collapsed": false,
        "outputHidden": false,
        "inputHidden": false
      }
    },
    {
      "cell_type": "code",
      "source": [
        "print('a,\\nb\\n,c')"
      ],
      "outputs": [
        {
          "output_type": "stream",
          "name": "stdout",
          "text": [
            "a,\n",
            "b\n",
            ",c\n"
          ]
        }
      ],
      "execution_count": 40,
      "metadata": {
        "collapsed": false,
        "outputHidden": false,
        "inputHidden": false
      }
    },
    {
      "cell_type": "code",
      "source": [
        "# 路径设置\n",
        "dir1 = 'C:/Users/Desktop/'\n",
        "dir2 = 'C:\\\\Users\\\\Desktop\\\\'\n",
        "print(dir1)\n",
        "print(dir2)"
      ],
      "outputs": [
        {
          "output_type": "stream",
          "name": "stdout",
          "text": [
            "C:/Users/Desktop/\n",
            "C:\\Users\\Desktop\\\n"
          ]
        }
      ],
      "execution_count": 42,
      "metadata": {
        "collapsed": false,
        "outputHidden": false,
        "inputHidden": false
      }
    },
    {
      "cell_type": "code",
      "source": [
        "# 字符串运算\n",
        "print('hello ' + 'world')\n",
        "print('hello ' * 3)\n",
        "print('h' in 'hello', 'h' not in 'hello')"
      ],
      "outputs": [
        {
          "output_type": "stream",
          "name": "stdout",
          "text": [
            "hello world\n",
            "hello hello hello \n",
            "True False\n"
          ]
        }
      ],
      "execution_count": 43,
      "metadata": {
        "collapsed": false,
        "outputHidden": false,
        "inputHidden": false
      }
    },
    {
      "cell_type": "code",
      "source": [
        "# 字符串常用方法、函数\n",
        "print(len('123456'))\n",
        "print(str(12345), str(10.29))\n",
        "print(int('12345'), float('2008.12'))\n",
        "# eval() 执行字符串的内容\n",
        "print(eval('100*20'))\n",
        "print(eval('123'), type(eval('123')))\n",
        "\n",
        "var1 = 'hello world'\n",
        "print(var1.replace('l', 'L'))\n",
        "\n",
        "var2 = \"小明， 男， 设计师\"\n",
        "print(var2.split('，'))\n"
      ],
      "outputs": [
        {
          "output_type": "stream",
          "name": "stdout",
          "text": [
            "6\n",
            "12345 10.29\n",
            "12345 2008.12\n",
            "2000\n",
            "123 <class 'int'>\n",
            "heLLo worLd\n",
            "['小明', ' 男', ' 设计师']\n"
          ]
        }
      ],
      "execution_count": 50,
      "metadata": {
        "collapsed": false,
        "outputHidden": false,
        "inputHidden": false
      }
    },
    {
      "cell_type": "code",
      "source": [
        "# 格式化字符串\n",
        "var1 = 10\n",
        "var2 = 89.9365\n",
        "var3 = '城市数据团'\n",
        "print('这个班上一共有%i人' % var1)\n",
        "print('小明这次考了%f分' % var2)\n",
        "print('小明这次考了%.2f分' % var2)\n",
        "print('听说%s很6' % var3)\n",
        "\nprint('这个班上一共有%i人, 小明这次考了%.2f分, 听说%s很6' %(var1, var2, var3))"
      ],
      "outputs": [
        {
          "output_type": "stream",
          "name": "stdout",
          "text": [
            "这个班上一共有10人\n",
            "小明这次考了89.936500分\n",
            "小明这次考了89.94分\n",
            "听说城市数据团很6\n",
            "这个班上一共有10人, 小明这次考了89.94分, 听说城市数据团很6\n"
          ]
        }
      ],
      "execution_count": 53,
      "metadata": {
        "collapsed": false,
        "outputHidden": false,
        "inputHidden": false
      }
    },
    {
      "cell_type": "code",
      "source": [
        "# 序列 分为： 元组、列表、字符串\n",
        "# 列表\n",
        "lst1 = [1,2,3,4,5,6]\n",
        "lst2 = ['a', 'b', 'c', 'd']\n",
        "lst3 = ['abc', 123, 10.2, [1,2,3,4]]\n",
        "print(lst1)\n",
        "print(lst2)\n",
        "print(lst3)\n",
        "print('这是一个列表：', lst1)\n"
      ],
      "outputs": [
        {
          "output_type": "stream",
          "name": "stdout",
          "text": [
            "[1, 2, 3, 4, 5, 6]\n",
            "['a', 'b', 'c', 'd']\n",
            "['abc', 123, 10.2, [1, 2, 3, 4]]\n",
            "这是一个列表： [1, 2, 3, 4, 5, 6]\n"
          ]
        }
      ],
      "execution_count": 54,
      "metadata": {
        "collapsed": false,
        "outputHidden": false,
        "inputHidden": false
      }
    },
    {
      "cell_type": "code",
      "source": [
        "# 列表运算\n",
        "print([1,2,3]+[4,5,6])\n",
        "print([1,2,3]*3)\n",
        "print(5 in [2,3,4])\n",
        "print(len(lst3))"
      ],
      "outputs": [
        {
          "output_type": "stream",
          "name": "stdout",
          "text": [
            "[1, 2, 3, 4, 5, 6]\n",
            "[1, 2, 3, 1, 2, 3, 1, 2, 3]\n",
            "False\n",
            "4\n"
          ]
        }
      ],
      "execution_count": 55,
      "metadata": {
        "collapsed": false,
        "outputHidden": false,
        "inputHidden": false
      }
    },
    {
      "cell_type": "code",
      "source": [
        "# 索引\n",
        "lst = [1,2,3,4,5,[1,2,3,4]]\n",
        "print(lst)\n",
        "print(lst[0], lst[1])\n",
        "print(lst[-1], lst[-2])"
      ],
      "outputs": [
        {
          "output_type": "stream",
          "name": "stdout",
          "text": [
            "[1, 2, 3, 4, 5, [1, 2, 3, 4]]\n",
            "1 2\n",
            "[1, 2, 3, 4] 5\n"
          ]
        }
      ],
      "execution_count": 56,
      "metadata": {
        "collapsed": false,
        "outputHidden": false,
        "inputHidden": false
      }
    },
    {
      "cell_type": "code",
      "source": [
        "for index, value in enumerate(lst):\n",
        "    print(index, value)"
      ],
      "outputs": [
        {
          "output_type": "stream",
          "name": "stdout",
          "text": [
            "0 1\n",
            "1 2\n",
            "2 3\n",
            "3 4\n",
            "4 5\n",
            "5 [1, 2, 3, 4]\n"
          ]
        }
      ],
      "execution_count": 57,
      "metadata": {
        "collapsed": false,
        "outputHidden": false,
        "inputHidden": false
      }
    },
    {
      "cell_type": "code",
      "source": [
        "st = 'hello world'\n",
        "print(st[0], st[1], st[-1])"
      ],
      "outputs": [
        {
          "output_type": "stream",
          "name": "stdout",
          "text": [
            "h e d\n"
          ]
        }
      ],
      "execution_count": 58,
      "metadata": {
        "collapsed": false,
        "outputHidden": false,
        "inputHidden": false
      }
    },
    {
      "cell_type": "code",
      "source": [
        "# 切片 左闭右开\n",
        "print(lst)\n",
        "print(lst[2:3])\n",
        "print(lst[:2])\n",
        "print(lst[1:])\n",
        "print(lst[1:-1])\n",
        "print(st[1:])\n",
        "\nprint(st[:-2])"
      ],
      "outputs": [
        {
          "output_type": "stream",
          "name": "stdout",
          "text": [
            "[1, 2, 3, 4, 5, [1, 2, 3, 4]]\n",
            "[3]\n",
            "[1, 2]\n",
            "[2, 3, 4, 5, [1, 2, 3, 4]]\n",
            "[2, 3, 4, 5]\n",
            "ello world\n",
            "hello wor\n"
          ]
        }
      ],
      "execution_count": 62,
      "metadata": {
        "collapsed": false,
        "outputHidden": false,
        "inputHidden": false
      }
    },
    {
      "cell_type": "code",
      "source": [
        "# 列表的常用方法\n",
        "lst = [10,20,30,40,50,60,70,80,90]\n",
        "print(len(lst))\n",
        "\n",
        "lst.append(100)\n",
        "lst.extend(['a', 'b'])\n",
        "lst.extend([['a','b']])\n",
        "print(lst)\n",
        "print('---'*4)\n",
        "\n",
        "lst.insert(2,1000)\n",
        "print(lst)\n",
        "print('---'*4)\n",
        "\n",
        "lst2 = lst\n",
        "lst3 = lst.copy()\n",
        "print(lst, id(lst))\n",
        "print(lst2, id(lst2))\n",
        "print(lst3, id(lst3))"
      ],
      "outputs": [
        {
          "output_type": "stream",
          "name": "stdout",
          "text": [
            "9\n",
            "[10, 20, 30, 40, 50, 60, 70, 80, 90, 100, 'a', 'b', ['a', 'b']]\n",
            "------------\n",
            "[10, 20, 1000, 30, 40, 50, 60, 70, 80, 90, 100, 'a', 'b', ['a', 'b']]\n",
            "------------\n",
            "[10, 20, 1000, 30, 40, 50, 60, 70, 80, 90, 100, 'a', 'b', ['a', 'b']] 1839554699144\n",
            "[10, 20, 1000, 30, 40, 50, 60, 70, 80, 90, 100, 'a', 'b', ['a', 'b']] 1839554699144\n",
            "[10, 20, 1000, 30, 40, 50, 60, 70, 80, 90, 100, 'a', 'b', ['a', 'b']] 1839556624264\n"
          ]
        }
      ],
      "execution_count": 67,
      "metadata": {
        "collapsed": false,
        "outputHidden": false,
        "inputHidden": false
      }
    },
    {
      "cell_type": "markdown",
      "source": [
        "### 3.模块导入"
      ],
      "metadata": {
        "collapsed": false,
        "outputHidden": false,
        "inputHidden": false
      }
    },
    {
      "cell_type": "markdown",
      "source": [
        "### 4. numpy、pandas数据类型"
      ],
      "metadata": {}
    },
    {
      "cell_type": "code",
      "source": [
        "import numpy as np\n",
        "import pandas as pd"
      ],
      "outputs": [],
      "execution_count": 68,
      "metadata": {}
    },
    {
      "cell_type": "code",
      "source": [
        "ar = np.array([1,2,3,4,5,6,7])\n",
        "print(ar)\n",
        "print(ar.ndim)\n",
        "print(ar.shape)\n",
        "print(ar.size)\n",
        "print(ar.dtype)\n",
        "print(ar.itemsize)\n",
        "print(ar.data)"
      ],
      "outputs": [
        {
          "output_type": "stream",
          "name": "stdout",
          "text": [
            "[1 2 3 4 5 6 7]\n",
            "1\n",
            "(7,)\n",
            "7\n",
            "int32\n",
            "4\n",
            "<memory at 0x000001AC51C17948>\n"
          ]
        }
      ],
      "execution_count": 72,
      "metadata": {}
    },
    {
      "cell_type": "code",
      "source": [
        "lst = [1,2,3,4,5,6]\n",
        "print(lst, type(lst))\n",
        "\n",
        "ar = np.array([lst, lst])\n",
        "print(ar, type(ar))"
      ],
      "outputs": [
        {
          "output_type": "stream",
          "name": "stdout",
          "text": [
            "[1, 2, 3, 4, 5, 6] <class 'list'>\n",
            "[[1 2 3 4 5 6]\n",
            " [1 2 3 4 5 6]] <class 'numpy.ndarray'>\n"
          ]
        }
      ],
      "execution_count": 76,
      "metadata": {}
    },
    {
      "cell_type": "code",
      "source": [
        "ar1 = np.arange(10)\n",
        "ar2 = np.ones((5,2))\n",
        "print(ar1,'\\n',ar1.T)\n",
        "print(ar2,'\\n',ar2.T)"
      ],
      "outputs": [
        {
          "output_type": "stream",
          "name": "stdout",
          "text": [
            "[0 1 2 3 4 5 6 7 8 9] \n",
            " [0 1 2 3 4 5 6 7 8 9]\n",
            "[[1. 1.]\n",
            " [1. 1.]\n",
            " [1. 1.]\n",
            " [1. 1.]\n",
            " [1. 1.]] \n",
            " [[1. 1. 1. 1. 1.]\n",
            " [1. 1. 1. 1. 1.]]\n"
          ]
        }
      ],
      "execution_count": 79,
      "metadata": {
        "collapsed": false,
        "outputHidden": false,
        "inputHidden": false
      }
    },
    {
      "cell_type": "code",
      "source": [
        "ar3 = ar1.reshape(2,5)\n",
        "ar4 = np.zeros((4,6)).reshape(3,8)\n",
        "ar5 = np.reshape(np.arange(12),(3,4))\n",
        "print(ar1, '\\n', ar3)\n",
        "print(ar4)\n",
        "print(ar5)"
      ],
      "outputs": [
        {
          "output_type": "stream",
          "name": "stdout",
          "text": [
            "[0 1 2 3 4 5 6 7 8 9] \n",
            " [[0 1 2 3 4]\n",
            " [5 6 7 8 9]]\n",
            "[[0. 0. 0. 0. 0. 0. 0. 0.]\n",
            " [0. 0. 0. 0. 0. 0. 0. 0.]\n",
            " [0. 0. 0. 0. 0. 0. 0. 0.]]\n",
            "[[ 0  1  2  3]\n",
            " [ 4  5  6  7]\n",
            " [ 8  9 10 11]]\n"
          ]
        }
      ],
      "execution_count": 81,
      "metadata": {
        "collapsed": false,
        "outputHidden": false,
        "inputHidden": false
      }
    },
    {
      "cell_type": "code",
      "source": [
        "# 基本索引及切片\n",
        "# 一维数组索引及切片\n",
        "ar = np.arange(20)\n",
        "print(ar)\n",
        "print(ar[4])\n",
        "print(ar[3:6])\n",
        "print('--------')\n",
        "\n",
        "# 二维数组索引及切片\n",
        "ar = np.arange(16).reshape(4,4)\n",
        "print(ar, '数组轴数为%i' %ar.ndim)\n",
        "print(ar[2], '数组轴数为%i' %ar[2].ndim)\n",
        "print(ar[2][1])\n",
        "print(ar[1:3])\n",
        "print(ar[2,2])\n",
        "print(ar[:2,1:])\n",
        "print('-------------')\n",
        "# 三维数组索引及切片\n",
        "ar = np.arange(8).reshape(2,2,2)\n",
        "print(ar, '数组的轴数为%i' %ar.ndim)\n",
        "print(ar[0])\n",
        "print(ar[0][0])\n",
        "print(ar[0][0][1])\n"
      ],
      "outputs": [
        {
          "output_type": "stream",
          "name": "stdout",
          "text": [
            "[ 0  1  2  3  4  5  6  7  8  9 10 11 12 13 14 15 16 17 18 19]\n",
            "4\n",
            "[3 4 5]\n",
            "--------\n",
            "[[ 0  1  2  3]\n",
            " [ 4  5  6  7]\n",
            " [ 8  9 10 11]\n",
            " [12 13 14 15]] 数组轴数为2\n",
            "[ 8  9 10 11] 数组轴数为1\n",
            "9\n",
            "[[ 4  5  6  7]\n",
            " [ 8  9 10 11]]\n",
            "10\n",
            "[[1 2 3]\n",
            " [5 6 7]]\n",
            "-------------\n",
            "[[[0 1]\n",
            "  [2 3]]\n",
            "\n",
            " [[4 5]\n",
            "  [6 7]]] 数组的轴数为3\n",
            "[[0 1]\n",
            " [2 3]]\n",
            "[0 1]\n",
            "1\n"
          ]
        }
      ],
      "execution_count": 92,
      "metadata": {
        "collapsed": false,
        "outputHidden": false,
        "inputHidden": false
      }
    },
    {
      "cell_type": "code",
      "source": [
        "# Dataframe\n",
        "ar = np.arange(10).reshape(5,2)\n",
        "ar"
      ],
      "outputs": [
        {
          "output_type": "execute_result",
          "execution_count": 94,
          "data": {
            "text/plain": [
              "array([[0, 1],\n",
              "       [2, 3],\n",
              "       [4, 5],\n",
              "       [6, 7],\n",
              "       [8, 9]])"
            ]
          },
          "metadata": {}
        }
      ],
      "execution_count": 94,
      "metadata": {
        "collapsed": false,
        "outputHidden": false,
        "inputHidden": false
      }
    },
    {
      "cell_type": "code",
      "source": [
        "df = pd.DataFrame(np.arange(10).reshape(5,2), columns=['A', 'B'])\n",
        "df"
      ],
      "outputs": [
        {
          "output_type": "execute_result",
          "execution_count": 95,
          "data": {
            "text/plain": [
              "   A  B\n",
              "0  0  1\n",
              "1  2  3\n",
              "2  4  5\n",
              "3  6  7\n",
              "4  8  9"
            ],
            "text/html": [
              "<div>\n",
              "<style scoped>\n",
              "    .dataframe tbody tr th:only-of-type {\n",
              "        vertical-align: middle;\n",
              "    }\n",
              "\n",
              "    .dataframe tbody tr th {\n",
              "        vertical-align: top;\n",
              "    }\n",
              "\n",
              "    .dataframe thead th {\n",
              "        text-align: right;\n",
              "    }\n",
              "</style>\n",
              "<table border=\"1\" class=\"dataframe\">\n",
              "  <thead>\n",
              "    <tr style=\"text-align: right;\">\n",
              "      <th></th>\n",
              "      <th>A</th>\n",
              "      <th>B</th>\n",
              "    </tr>\n",
              "  </thead>\n",
              "  <tbody>\n",
              "    <tr>\n",
              "      <th>0</th>\n",
              "      <td>0</td>\n",
              "      <td>1</td>\n",
              "    </tr>\n",
              "    <tr>\n",
              "      <th>1</th>\n",
              "      <td>2</td>\n",
              "      <td>3</td>\n",
              "    </tr>\n",
              "    <tr>\n",
              "      <th>2</th>\n",
              "      <td>4</td>\n",
              "      <td>5</td>\n",
              "    </tr>\n",
              "    <tr>\n",
              "      <th>3</th>\n",
              "      <td>6</td>\n",
              "      <td>7</td>\n",
              "    </tr>\n",
              "    <tr>\n",
              "      <th>4</th>\n",
              "      <td>8</td>\n",
              "      <td>9</td>\n",
              "    </tr>\n",
              "  </tbody>\n",
              "</table>\n",
              "</div>"
            ]
          },
          "metadata": {}
        }
      ],
      "execution_count": 95,
      "metadata": {
        "collapsed": false,
        "outputHidden": false,
        "inputHidden": false
      }
    },
    {
      "cell_type": "code",
      "source": [
        "# Dataframe 数据结构\n",
        "# Dataframe 是一个表格型的数据结构， “带有标签的二维数组”\n",
        "# Dataframe 带有index（行标签）和 columns（列标签）"
      ],
      "outputs": [],
      "execution_count": 96,
      "metadata": {
        "collapsed": false,
        "outputHidden": false,
        "inputHidden": false
      }
    },
    {
      "cell_type": "code",
      "source": [
        "df = pd.DataFrame(np.random.rand(12).reshape(3,4)*100,\n",
        "                  index=['one', 'two', 'three'],\n",
        "                  columns=['a', 'b', 'c', 'd']\n",
        "                 )\n",
        "print(df)\n",
        "print(type(df))\n",
        "print('---'*3)\n",
        "print(df.index, type(df.index))\n",
        "print(df.columns, type(df.columns))\n",
        "print(df.values, type(df.values))"
      ],
      "outputs": [
        {
          "output_type": "stream",
          "name": "stdout",
          "text": [
            "               a          b          c          d\n",
            "one    78.697056  30.949900  23.720975  83.449117\n",
            "two     4.911191  36.064800  92.206459  96.554411\n",
            "three  71.185992  91.356109  13.431242  88.906149\n",
            "<class 'pandas.core.frame.DataFrame'>\n",
            "---------\n",
            "Index(['one', 'two', 'three'], dtype='object') <class 'pandas.core.indexes.base.Index'>\n",
            "Index(['a', 'b', 'c', 'd'], dtype='object') <class 'pandas.core.indexes.base.Index'>\n",
            "[[78.69705612 30.94989961 23.72097534 83.4491174 ]\n",
            " [ 4.91119104 36.0647999  92.2064589  96.55441124]\n",
            " [71.18599177 91.35610904 13.43124217 88.90614885]] <class 'numpy.ndarray'>\n"
          ]
        }
      ],
      "execution_count": 99,
      "metadata": {
        "collapsed": false,
        "outputHidden": false,
        "inputHidden": false
      }
    },
    {
      "cell_type": "code",
      "source": [
        "df"
      ],
      "outputs": [
        {
          "output_type": "execute_result",
          "execution_count": 102,
          "data": {
            "text/plain": [
              "               a          b          c          d\n",
              "one    78.697056  30.949900  23.720975  83.449117\n",
              "two     4.911191  36.064800  92.206459  96.554411\n",
              "three  71.185992  91.356109  13.431242  88.906149"
            ],
            "text/html": [
              "<div>\n",
              "<style scoped>\n",
              "    .dataframe tbody tr th:only-of-type {\n",
              "        vertical-align: middle;\n",
              "    }\n",
              "\n",
              "    .dataframe tbody tr th {\n",
              "        vertical-align: top;\n",
              "    }\n",
              "\n",
              "    .dataframe thead th {\n",
              "        text-align: right;\n",
              "    }\n",
              "</style>\n",
              "<table border=\"1\" class=\"dataframe\">\n",
              "  <thead>\n",
              "    <tr style=\"text-align: right;\">\n",
              "      <th></th>\n",
              "      <th>a</th>\n",
              "      <th>b</th>\n",
              "      <th>c</th>\n",
              "      <th>d</th>\n",
              "    </tr>\n",
              "  </thead>\n",
              "  <tbody>\n",
              "    <tr>\n",
              "      <th>one</th>\n",
              "      <td>78.697056</td>\n",
              "      <td>30.949900</td>\n",
              "      <td>23.720975</td>\n",
              "      <td>83.449117</td>\n",
              "    </tr>\n",
              "    <tr>\n",
              "      <th>two</th>\n",
              "      <td>4.911191</td>\n",
              "      <td>36.064800</td>\n",
              "      <td>92.206459</td>\n",
              "      <td>96.554411</td>\n",
              "    </tr>\n",
              "    <tr>\n",
              "      <th>three</th>\n",
              "      <td>71.185992</td>\n",
              "      <td>91.356109</td>\n",
              "      <td>13.431242</td>\n",
              "      <td>88.906149</td>\n",
              "    </tr>\n",
              "  </tbody>\n",
              "</table>\n",
              "</div>"
            ]
          },
          "metadata": {}
        }
      ],
      "execution_count": 102,
      "metadata": {
        "collapsed": false,
        "outputHidden": false,
        "inputHidden": false
      }
    },
    {
      "cell_type": "code",
      "source": [
        "# 在dataframe 中分列索引和行索引\n",
        "# 列索引: df[]\n",
        "print(df['a'])          # 单列索引，结果为Series\n",
        "print(df[['a']])        # 单列索引，结果为DataFrame\n",
        "print(df[['a', 'c']])   # 多列索引，结果为DataFrame"
      ],
      "outputs": [
        {
          "output_type": "stream",
          "name": "stdout",
          "text": [
            "one      78.697056\n",
            "two       4.911191\n",
            "three    71.185992\n",
            "Name: a, dtype: float64\n",
            "               a\n",
            "one    78.697056\n",
            "two     4.911191\n",
            "three  71.185992\n",
            "               a          c\n",
            "one    78.697056  23.720975\n",
            "two     4.911191  92.206459\n",
            "three  71.185992  13.431242\n"
          ]
        }
      ],
      "execution_count": 100,
      "metadata": {
        "collapsed": false,
        "outputHidden": false,
        "inputHidden": false
      }
    },
    {
      "cell_type": "code",
      "source": [
        "# 行索引 df.loc[]切片末端包含  - 按index选择行 df.iloc[]切片末端不包含\n",
        "df1 = pd.DataFrame(np.random.rand(16).reshape(4,4)*100,\n",
        "                   index= ['one','two','three','four'],\n",
        "                   columns = ['a','b','c','d']\n",
        "                  )\n",
        "df1"
      ],
      "outputs": [
        {
          "output_type": "execute_result",
          "execution_count": 103,
          "data": {
            "text/plain": [
              "               a          b          c          d\n",
              "one    92.246705  30.664009  89.310805  59.109763\n",
              "two    48.351678  99.781819  47.577657  76.304618\n",
              "three   2.261258  89.544249  50.279505  48.789906\n",
              "four   29.798335  35.365883  81.129231  99.313109"
            ],
            "text/html": [
              "<div>\n",
              "<style scoped>\n",
              "    .dataframe tbody tr th:only-of-type {\n",
              "        vertical-align: middle;\n",
              "    }\n",
              "\n",
              "    .dataframe tbody tr th {\n",
              "        vertical-align: top;\n",
              "    }\n",
              "\n",
              "    .dataframe thead th {\n",
              "        text-align: right;\n",
              "    }\n",
              "</style>\n",
              "<table border=\"1\" class=\"dataframe\">\n",
              "  <thead>\n",
              "    <tr style=\"text-align: right;\">\n",
              "      <th></th>\n",
              "      <th>a</th>\n",
              "      <th>b</th>\n",
              "      <th>c</th>\n",
              "      <th>d</th>\n",
              "    </tr>\n",
              "  </thead>\n",
              "  <tbody>\n",
              "    <tr>\n",
              "      <th>one</th>\n",
              "      <td>92.246705</td>\n",
              "      <td>30.664009</td>\n",
              "      <td>89.310805</td>\n",
              "      <td>59.109763</td>\n",
              "    </tr>\n",
              "    <tr>\n",
              "      <th>two</th>\n",
              "      <td>48.351678</td>\n",
              "      <td>99.781819</td>\n",
              "      <td>47.577657</td>\n",
              "      <td>76.304618</td>\n",
              "    </tr>\n",
              "    <tr>\n",
              "      <th>three</th>\n",
              "      <td>2.261258</td>\n",
              "      <td>89.544249</td>\n",
              "      <td>50.279505</td>\n",
              "      <td>48.789906</td>\n",
              "    </tr>\n",
              "    <tr>\n",
              "      <th>four</th>\n",
              "      <td>29.798335</td>\n",
              "      <td>35.365883</td>\n",
              "      <td>81.129231</td>\n",
              "      <td>99.313109</td>\n",
              "    </tr>\n",
              "  </tbody>\n",
              "</table>\n",
              "</div>"
            ]
          },
          "metadata": {}
        }
      ],
      "execution_count": 103,
      "metadata": {
        "collapsed": false,
        "outputHidden": false,
        "inputHidden": false
      }
    },
    {
      "cell_type": "code",
      "source": [
        "data1 = df1.loc['one']\n",
        "print(data1)\n",
        "print('单行(单标签)索引\\n')\n",
        "data2 = df1.loc[['one','three','four']]\n",
        "print(data2)\n",
        "print('多标签索引\\n')\n",
        "\n",
        "data3 = df1.loc['one':'three']\n",
        "print(data3)\n",
        "print('切片索引')"
      ],
      "outputs": [
        {
          "output_type": "stream",
          "name": "stdout",
          "text": [
            "a    92.246705\n",
            "b    30.664009\n",
            "c    89.310805\n",
            "d    59.109763\n",
            "Name: one, dtype: float64\n",
            "单行(单标签)索引\n",
            "\n",
            "               a          b          c          d\n",
            "one    92.246705  30.664009  89.310805  59.109763\n",
            "three   2.261258  89.544249  50.279505  48.789906\n",
            "four   29.798335  35.365883  81.129231  99.313109\n",
            "多标签索引\n",
            "\n",
            "               a          b          c          d\n",
            "one    92.246705  30.664009  89.310805  59.109763\n",
            "two    48.351678  99.781819  47.577657  76.304618\n",
            "three   2.261258  89.544249  50.279505  48.789906\n",
            "切片索引\n"
          ]
        }
      ],
      "execution_count": 107,
      "metadata": {
        "collapsed": false,
        "outputHidden": false,
        "inputHidden": false
      }
    },
    {
      "cell_type": "code",
      "source": [
        "df1"
      ],
      "outputs": [
        {
          "output_type": "execute_result",
          "execution_count": 109,
          "data": {
            "text/plain": [
              "               a          b          c          d\n",
              "one    92.246705  30.664009  89.310805  59.109763\n",
              "two    48.351678  99.781819  47.577657  76.304618\n",
              "three   2.261258  89.544249  50.279505  48.789906\n",
              "four   29.798335  35.365883  81.129231  99.313109"
            ],
            "text/html": [
              "<div>\n",
              "<style scoped>\n",
              "    .dataframe tbody tr th:only-of-type {\n",
              "        vertical-align: middle;\n",
              "    }\n",
              "\n",
              "    .dataframe tbody tr th {\n",
              "        vertical-align: top;\n",
              "    }\n",
              "\n",
              "    .dataframe thead th {\n",
              "        text-align: right;\n",
              "    }\n",
              "</style>\n",
              "<table border=\"1\" class=\"dataframe\">\n",
              "  <thead>\n",
              "    <tr style=\"text-align: right;\">\n",
              "      <th></th>\n",
              "      <th>a</th>\n",
              "      <th>b</th>\n",
              "      <th>c</th>\n",
              "      <th>d</th>\n",
              "    </tr>\n",
              "  </thead>\n",
              "  <tbody>\n",
              "    <tr>\n",
              "      <th>one</th>\n",
              "      <td>92.246705</td>\n",
              "      <td>30.664009</td>\n",
              "      <td>89.310805</td>\n",
              "      <td>59.109763</td>\n",
              "    </tr>\n",
              "    <tr>\n",
              "      <th>two</th>\n",
              "      <td>48.351678</td>\n",
              "      <td>99.781819</td>\n",
              "      <td>47.577657</td>\n",
              "      <td>76.304618</td>\n",
              "    </tr>\n",
              "    <tr>\n",
              "      <th>three</th>\n",
              "      <td>2.261258</td>\n",
              "      <td>89.544249</td>\n",
              "      <td>50.279505</td>\n",
              "      <td>48.789906</td>\n",
              "    </tr>\n",
              "    <tr>\n",
              "      <th>four</th>\n",
              "      <td>29.798335</td>\n",
              "      <td>35.365883</td>\n",
              "      <td>81.129231</td>\n",
              "      <td>99.313109</td>\n",
              "    </tr>\n",
              "  </tbody>\n",
              "</table>\n",
              "</div>"
            ]
          },
          "metadata": {}
        }
      ],
      "execution_count": 109,
      "metadata": {
        "collapsed": false,
        "outputHidden": false,
        "inputHidden": false
      }
    },
    {
      "cell_type": "code",
      "source": [
        "print(df1.iloc[0])\n",
        "print(df1.iloc[-1])\n",
        "print('单位置索引')\n",
        "print(df1.iloc[[0,2]])\n",
        "print(df1.iloc[[3,2,1]])\n",
        "print('多位置索引, 顺序可变')\n",
        "print(df1.iloc[1:3])\n",
        "print(df1.iloc[::2])\n",
        "print('切片索引， 末端不包含')"
      ],
      "outputs": [
        {
          "output_type": "stream",
          "name": "stdout",
          "text": [
            "a    92.246705\n",
            "b    30.664009\n",
            "c    89.310805\n",
            "d    59.109763\n",
            "Name: one, dtype: float64\n",
            "a    29.798335\n",
            "b    35.365883\n",
            "c    81.129231\n",
            "d    99.313109\n",
            "Name: four, dtype: float64\n",
            "单位置索引\n",
            "               a          b          c          d\n",
            "one    92.246705  30.664009  89.310805  59.109763\n",
            "three   2.261258  89.544249  50.279505  48.789906\n",
            "               a          b          c          d\n",
            "four   29.798335  35.365883  81.129231  99.313109\n",
            "three   2.261258  89.544249  50.279505  48.789906\n",
            "two    48.351678  99.781819  47.577657  76.304618\n",
            "多位置索引, 顺序可变\n",
            "               a          b          c          d\n",
            "two    48.351678  99.781819  47.577657  76.304618\n",
            "three   2.261258  89.544249  50.279505  48.789906\n",
            "               a          b          c          d\n",
            "one    92.246705  30.664009  89.310805  59.109763\n",
            "three   2.261258  89.544249  50.279505  48.789906\n",
            "切片索引， 末端不包含\n"
          ]
        }
      ],
      "execution_count": 114,
      "metadata": {
        "collapsed": false,
        "outputHidden": false,
        "inputHidden": false
      }
    },
    {
      "cell_type": "markdown",
      "source": [],
      "metadata": {
        "collapsed": false,
        "outputHidden": false,
        "inputHidden": false
      }
    },
    {
      "cell_type": "code",
      "source": [],
      "outputs": [],
      "execution_count": null,
      "metadata": {
        "collapsed": false,
        "outputHidden": false,
        "inputHidden": false
      }
    },
    {
      "cell_type": "code",
      "source": [],
      "outputs": [],
      "execution_count": null,
      "metadata": {
        "collapsed": false,
        "outputHidden": false,
        "inputHidden": false
      }
    },
    {
      "cell_type": "code",
      "source": [],
      "outputs": [],
      "execution_count": null,
      "metadata": {
        "collapsed": false,
        "outputHidden": false,
        "inputHidden": false
      }
    },
    {
      "cell_type": "code",
      "source": [],
      "outputs": [],
      "execution_count": null,
      "metadata": {
        "collapsed": false,
        "outputHidden": false,
        "inputHidden": false
      }
    },
    {
      "cell_type": "code",
      "source": [],
      "outputs": [],
      "execution_count": null,
      "metadata": {
        "collapsed": false,
        "outputHidden": false,
        "inputHidden": false
      }
    }
  ],
  "metadata": {
    "kernel_info": {
      "name": "python3"
    },
    "language_info": {
      "name": "python",
      "version": "3.7.1",
      "mimetype": "text/x-python",
      "codemirror_mode": {
        "name": "ipython",
        "version": 3
      },
      "pygments_lexer": "ipython3",
      "nbconvert_exporter": "python",
      "file_extension": ".py"
    },
    "kernelspec": {
      "name": "python3",
      "language": "python",
      "display_name": "Python 3"
    },
    "nteract": {
      "version": "0.12.3"
    }
  },
  "nbformat": 4,
  "nbformat_minor": 4
}